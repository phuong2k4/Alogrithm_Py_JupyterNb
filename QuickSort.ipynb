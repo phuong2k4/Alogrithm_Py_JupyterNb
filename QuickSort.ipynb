{
 "cells": [
  {
   "cell_type": "markdown",
   "metadata": {},
   "source": [
    "<h1 style=\"color: white; font-weight: bold; font-family: 'JetBrains Mono';\">Quick Sort</h1>"
   ]
  },
  {
   "cell_type": "markdown",
   "metadata": {},
   "source": [
    "#CREATE RANDOM ARRAY"
   ]
  },
  {
   "cell_type": "code",
   "execution_count": 1,
   "metadata": {},
   "outputs": [],
   "source": [
    "array = [3,2,7,4,1,5,9,6,8]"
   ]
  },
  {
   "cell_type": "markdown",
   "metadata": {},
   "source": [
    "#Algorithm"
   ]
  },
  {
   "cell_type": "markdown",
   "metadata": {},
   "source": [
    "#1: pivot = mid "
   ]
  },
  {
   "cell_type": "code",
   "execution_count": 4,
   "metadata": {},
   "outputs": [],
   "source": [
    "def quickSortW1(a, l, r):\n",
    "    if l>=r:\n",
    "        return\n",
    "    pivot = a[int((l+r)/2)]\n",
    "    i = l\n",
    "    j = r\n",
    "    while i<j:\n",
    "        while pivot > a[i]:\n",
    "            i+=1\n",
    "        while pivot < a[j]:\n",
    "            j-=1\n",
    "        if i<=j:\n",
    "            temp = a[i]\n",
    "            a[i] = a[j]\n",
    "            a[j] = temp\n",
    "            i+=1\n",
    "            j-=1\n",
    "    quickSortW1(a,l,j)\n",
    "    quickSortW1(a,i,r)"
   ]
  },
  {
   "cell_type": "markdown",
   "metadata": {},
   "source": [
    "#2: pivot = left"
   ]
  },
  {
   "cell_type": "code",
   "execution_count": 8,
   "metadata": {},
   "outputs": [],
   "source": [
    "def patitionL(a,l,r):\n",
    "    pivot = a[l]\n",
    "    i = l\n",
    "    j = r\n",
    "    while True:\n",
    "        while pivot > a[i]:\n",
    "            i+=1\n",
    "        while pivot < a[j]:\n",
    "            j-=1\n",
    "        if i<j:\n",
    "            temp = a[i]\n",
    "            a[i] = a[j]\n",
    "            a[j] = temp\n",
    "        else:\n",
    "            return j"
   ]
  },
  {
   "cell_type": "code",
   "execution_count": 9,
   "metadata": {},
   "outputs": [],
   "source": [
    "def quickSortW2(a,l,r):\n",
    "    if l >= r : \n",
    "        return\n",
    "    p = patitionL(a,l,r)\n",
    "    quickSortW2(a,l,p)\n",
    "    quickSortW2(a,p+1,r)"
   ]
  },
  {
   "cell_type": "markdown",
   "metadata": {},
   "source": [
    "#3: pivot = right"
   ]
  },
  {
   "cell_type": "code",
   "execution_count": 19,
   "metadata": {},
   "outputs": [],
   "source": [
    "def patitionR(a,l,r):\n",
    "    pivot = a[r]\n",
    "    i = l - 1\n",
    "    for j in range(l,r):\n",
    "        if pivot >= a[j]:\n",
    "            i+=1\n",
    "            temp = a[i]\n",
    "            a[i] = a[j]\n",
    "            a[j] = temp\n",
    "    i+=1\n",
    "    temp = a[i]\n",
    "    a[i] = a[r]\n",
    "    a[r] = temp\n",
    "    return i"
   ]
  },
  {
   "cell_type": "code",
   "execution_count": 20,
   "metadata": {},
   "outputs": [],
   "source": [
    "def quickSortW3(a,l ,r):\n",
    "    if l>=r :\n",
    "        return\n",
    "    p = patitionR(a,l,r)\n",
    "    quickSortW3(a,l,p-1)\n",
    "    quickSortW3(a,p+1,r)"
   ]
  },
  {
   "cell_type": "markdown",
   "metadata": {},
   "source": [
    "#Call Function"
   ]
  },
  {
   "cell_type": "code",
   "execution_count": 21,
   "metadata": {},
   "outputs": [],
   "source": [
    "quickSortW3(array, 0,len(array)-1)"
   ]
  },
  {
   "cell_type": "markdown",
   "metadata": {},
   "source": [
    "#Print result"
   ]
  },
  {
   "cell_type": "code",
   "execution_count": 22,
   "metadata": {},
   "outputs": [
    {
     "name": "stdout",
     "output_type": "stream",
     "text": [
      "[1, 2, 3, 4, 5, 6, 7, 8, 9]\n"
     ]
    }
   ],
   "source": [
    "print(array)"
   ]
  }
 ],
 "metadata": {
  "kernelspec": {
   "display_name": "Python 3",
   "language": "python",
   "name": "python3"
  },
  "language_info": {
   "codemirror_mode": {
    "name": "ipython",
    "version": 3
   },
   "file_extension": ".py",
   "mimetype": "text/x-python",
   "name": "python",
   "nbconvert_exporter": "python",
   "pygments_lexer": "ipython3",
   "version": "3.12.4"
  }
 },
 "nbformat": 4,
 "nbformat_minor": 2
}
