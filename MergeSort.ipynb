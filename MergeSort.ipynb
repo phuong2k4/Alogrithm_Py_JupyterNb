{
 "cells": [
  {
   "cell_type": "markdown",
   "metadata": {},
   "source": [
    "<h1 style=\" color: black; font-size: 5rem;\"> Merge Sort<h1/>"
   ]
  },
  {
   "cell_type": "markdown",
   "metadata": {},
   "source": [
    "#Create Array"
   ]
  },
  {
   "cell_type": "code",
   "execution_count": 1,
   "metadata": {},
   "outputs": [],
   "source": [
    "array = [3,1,2,7,5,4,6,10,9,11,8]"
   ]
  },
  {
   "cell_type": "markdown",
   "metadata": {},
   "source": [
    "#Create Algorithm"
   ]
  },
  {
   "cell_type": "markdown",
   "metadata": {},
   "source": [
    "#Conquer"
   ]
  },
  {
   "cell_type": "code",
   "execution_count": 2,
   "metadata": {},
   "outputs": [],
   "source": [
    "def merge(a,l,m,r):\n",
    "    x = a[l:m+1]\n",
    "    y = a[m+1:r+1]\n",
    "    i = 0; j = 0\n",
    "    while i < len(x) and j < len(y):\n",
    "        if x[i] <= y[j]:\n",
    "            a[l]=x[i]\n",
    "            l+=1\n",
    "            i+=1\n",
    "        else:\n",
    "            a[l]=y[j]\n",
    "            l+=1\n",
    "            j+=1\n",
    "    while i<len(x):\n",
    "        a[l] = x[i]\n",
    "        l += 1\n",
    "        i += 1\n",
    "    while j < len(y):\n",
    "        a[l] = y[j]\n",
    "        l += 1\n",
    "        j += 1"
   ]
  },
  {
   "cell_type": "markdown",
   "metadata": {},
   "source": [
    "#Divide"
   ]
  },
  {
   "cell_type": "code",
   "execution_count": 3,
   "metadata": {},
   "outputs": [],
   "source": [
    "def mergeSort(a, l, r):\n",
    "    if l >= r:\n",
    "        return\n",
    "    mid = (l+r) // 2\n",
    "    mergeSort(a,l,mid)\n",
    "    mergeSort(a,mid+1,r)\n",
    "    merge(a,l,mid,r)"
   ]
  },
  {
   "cell_type": "markdown",
   "metadata": {},
   "source": [
    "#Call Function"
   ]
  },
  {
   "cell_type": "code",
   "execution_count": 4,
   "metadata": {},
   "outputs": [],
   "source": [
    "mergeSort(array, 0, len(array)-1)"
   ]
  },
  {
   "cell_type": "markdown",
   "metadata": {},
   "source": [
    "#print result"
   ]
  },
  {
   "cell_type": "code",
   "execution_count": 5,
   "metadata": {},
   "outputs": [
    {
     "name": "stdout",
     "output_type": "stream",
     "text": [
      "[1, 2, 3, 4, 5, 6, 7, 8, 9, 10, 11]\n"
     ]
    }
   ],
   "source": [
    "print(array)"
   ]
  }
 ],
 "metadata": {
  "kernelspec": {
   "display_name": "Python 3",
   "language": "python",
   "name": "python3"
  },
  "language_info": {
   "codemirror_mode": {
    "name": "ipython",
    "version": 3
   },
   "file_extension": ".py",
   "mimetype": "text/x-python",
   "name": "python",
   "nbconvert_exporter": "python",
   "pygments_lexer": "ipython3",
   "version": "3.12.4"
  }
 },
 "nbformat": 4,
 "nbformat_minor": 2
}
