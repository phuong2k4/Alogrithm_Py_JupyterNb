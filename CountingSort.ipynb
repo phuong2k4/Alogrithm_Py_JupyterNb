{
 "cells": [
  {
   "cell_type": "markdown",
   "metadata": {},
   "source": [
    "<h1 style=\"font-weight: bold; color: white\">Counting Sort</h1>"
   ]
  },
  {
   "cell_type": "markdown",
   "metadata": {},
   "source": [
    "#Define Array"
   ]
  },
  {
   "cell_type": "code",
   "execution_count": 1,
   "metadata": {},
   "outputs": [],
   "source": [
    "arrays = [2,2,1,1,2,3,6,7,4,5,6,7,7,7]\n",
    "result = []"
   ]
  },
  {
   "cell_type": "markdown",
   "metadata": {},
   "source": [
    "#Algorithm"
   ]
  },
  {
   "cell_type": "code",
   "execution_count": 2,
   "metadata": {},
   "outputs": [],
   "source": [
    "def max(a,b):\n",
    "    if a > b:\n",
    "        return a\n",
    "    return b"
   ]
  },
  {
   "cell_type": "markdown",
   "metadata": {},
   "source": [
    "#Explain code:\n",
    "    -Define max_index to storage the biggest number in \"arrays\", this ways create number data array \"b\" can storage value max in arr \"a\"\n",
    "    (if u define array b a hundred or something like this, that would be not realy clear your code and data)\n",
    "    -next way i loop in to the array \"a\" and count element if i see that be the same value\n",
    "    -And final i create a loop from 0 to max_index and if else check value \n",
    "    (if the while loop see arr \"b\" not equal to 0 he print this index we count above)"
   ]
  },
  {
   "cell_type": "code",
   "execution_count": 3,
   "metadata": {},
   "outputs": [],
   "source": [
    "\n",
    "def countingS(a):\n",
    "    max_index = 0\n",
    "    for i in a:\n",
    "        max_index = max(i, max_index)\n",
    "    b = [0] * (max_index+1)\n",
    "    for i in a:\n",
    "        b[i]+=1\n",
    "    for i in range(0, max_index+1):\n",
    "        while b[i] != 0:\n",
    "            result.append(i)\n",
    "            b[i]-=1\n",
    "    return result"
   ]
  },
  {
   "cell_type": "markdown",
   "metadata": {},
   "source": [
    "#Result"
   ]
  },
  {
   "cell_type": "code",
   "execution_count": 4,
   "metadata": {},
   "outputs": [
    {
     "name": "stdout",
     "output_type": "stream",
     "text": [
      "[1, 1, 2, 2, 2, 3, 4, 5, 6, 6, 7, 7, 7, 7]\n"
     ]
    }
   ],
   "source": [
    "print(countingS(arrays))"
   ]
  }
 ],
 "metadata": {
  "kernelspec": {
   "display_name": "Python 3",
   "language": "python",
   "name": "python3"
  },
  "language_info": {
   "codemirror_mode": {
    "name": "ipython",
    "version": 3
   },
   "file_extension": ".py",
   "mimetype": "text/x-python",
   "name": "python",
   "nbconvert_exporter": "python",
   "pygments_lexer": "ipython3",
   "version": "3.12.4"
  }
 },
 "nbformat": 4,
 "nbformat_minor": 2
}
